{
 "cells": [
  {
   "cell_type": "markdown",
   "metadata": {},
   "source": [
    "# dHybridR M05 Analysis\n",
    "#### Here we analyze a specific simulation, assuming that FPC data has already been generated\n",
    "\n",
    "Note: we generate most plots twice, once to make appear in notebook, once to save as png. TODO: streamline this"
   ]
  },
  {
   "cell_type": "code",
   "execution_count": 1,
   "metadata": {},
   "outputs": [],
   "source": [
    "#Need this to add libraries in parent folder\n",
    "import sys\n",
    "sys.path.append('..')\n",
    "sys.path.append('.')\n",
    "sys.path.append('../lib')"
   ]
  },
  {
   "cell_type": "code",
   "execution_count": 2,
   "metadata": {},
   "outputs": [],
   "source": [
    "import lib.analysis as anl \n",
    "import lib.array_ops as ao\n",
    "import lib.data_h5 as dh5\n",
    "import lib.data_netcdf4 as dnc\n",
    "import lib.fpc as fpc\n",
    "import lib.frametransform as ft\n",
    "import lib.metadata as md\n",
    "\n",
    "import lib.plot.oned as plt1d\n",
    "import lib.plot.twod as plt2d\n",
    "import lib.plot.debug as pltdebug\n",
    "import lib.plot.fourier as pltfr\n",
    "import lib.plot.resultsmanager as rsltmng\n",
    "import lib.plot.velspace as pltvv\n",
    "\n",
    "import os\n",
    "import math\n",
    "import numpy as np"
   ]
  },
  {
   "cell_type": "markdown",
   "metadata": {},
   "source": [
    "## Load data"
   ]
  },
  {
   "cell_type": "code",
   "execution_count": 3,
   "metadata": {},
   "outputs": [],
   "source": [
    "# load analysis file\n",
    "analysisflnm = '../analysisinputs/m05input.txt'\n",
    "path,resultsdir,vmax,dv,numframe,dx,xlim,ylim,zlim = anl.analysis_input(flnm = analysisflnm)\n",
    "path_particles = path+'Output/Raw/Sp01/raw_sp01_{:08d}.h5'"
   ]
  },
  {
   "cell_type": "code",
   "execution_count": 4,
   "metadata": {},
   "outputs": [
    {
     "data": {
      "text/plain": [
       "256"
      ]
     },
     "execution_count": 4,
     "metadata": {},
     "output_type": "execute_result"
    }
   ],
   "source": [
    "#make results directory\n",
    "resultstag = 'M05'\n",
    "resultsdir = resultstag+'results/'\n",
    "os.system('mkdir ' + resultsdir)"
   ]
  },
  {
   "cell_type": "code",
   "execution_count": 5,
   "metadata": {},
   "outputs": [],
   "source": [
    "#load fields\n",
    "dfields = dh5.field_loader(path=path,num=numframe)\n",
    "\n",
    "#load flow data\n",
    "dflow = dh5.flow_loader(path=path,num=numframe)\n"
   ]
  },
  {
   "cell_type": "code",
   "execution_count": 6,
   "metadata": {},
   "outputs": [],
   "source": [
    "#check that xlim ylim and zlim are not none\n",
    "#if so, use boundaries of box\n",
    "cellsizexx = dfields['ex_xx'][1]-dfields['ex_xx'][0]\n",
    "cellsizeyy = dfields['ex_yy'][1]-dfields['ex_yy'][0]\n",
    "cellsizezz = dfields['ex_zz'][1]-dfields['ex_zz'][0]\n",
    "\n",
    "if(xlim is None):\n",
    "    xlim = [dfields['ex_xx'][0]-cellsizexx/2.,dfields['ex_xx'][-1]+cellsizexx/2.]\n",
    "if(ylim is None):\n",
    "    ylim = [dfields['ex_yy'][0]-cellsizeyy/2.,dfields['ex_yy'][-1]+cellsizeyy/2.]\n",
    "if(zlim is None):\n",
    "    zlim = [dfields['ex_zz'][0]-cellsizeyy/2.,dfields['ex_zz'][-1]+cellsizeyy/2.]"
   ]
  },
  {
   "cell_type": "code",
   "execution_count": null,
   "metadata": {},
   "outputs": [],
   "source": [
    "# load particle data\n",
    "dparticles = dh5.read_box_of_particles(path_particles, numframe, xlim[0], xlim[1], ylim[0], ylim[1], zlim[0], zlim[1])"
   ]
  },
  {
   "cell_type": "code",
   "execution_count": null,
   "metadata": {},
   "outputs": [],
   "source": [
    "all_dfields = dh5.all_dfield_loader(path=path, verbose=False)"
   ]
  },
  {
   "cell_type": "markdown",
   "metadata": {},
   "source": [
    "### Lorentz transform fields and shift frame of flow"
   ]
  },
  {
   "cell_type": "code",
   "execution_count": null,
   "metadata": {},
   "outputs": [],
   "source": [
    "vshock, xshockvals = ft.shock_from_ex_cross(all_dfields)"
   ]
  },
  {
   "cell_type": "code",
   "execution_count": null,
   "metadata": {},
   "outputs": [],
   "source": [
    "## (Optional) Check if shock was tracked well. We use the back half in time to fit to a line\n",
    "#plt1d.time_stack_line_plot(all_dfields,'ex',pts = xshockvals)"
   ]
  },
  {
   "cell_type": "code",
   "execution_count": null,
   "metadata": {},
   "outputs": [],
   "source": [
    "#loretnz transform fields\n",
    "dfields = ft.lorentz_transform_vx(dfields,vshock)\n",
    "_fields = []\n",
    "for k in range(0,len(all_dfields['dfields'])):\n",
    "    _fields.append(ft.lorentz_transform_vx(all_dfields['dfields'][k],vshock))\n",
    "all_dfields['dfields'] = _fields\n",
    "\n",
    "#tranform flow\n",
    "dflow = ft.transform_flow(dflow,vshock)"
   ]
  },
  {
   "cell_type": "code",
   "execution_count": null,
   "metadata": {},
   "outputs": [],
   "source": [
    "# (Optional) plot all the lorentz transformed fields\n",
    "plt1d.plot_all_fields(dfields, axis='_xx', xxindex = 0, yyindex = 0, zzindex = 0, flnm=resultsdir+resultstag+'fields.png')\n",
    "plt1d.plot_all_fields(dfields, axis='_xx', xxindex = 0, yyindex = 0, zzindex = 0)"
   ]
  },
  {
   "cell_type": "code",
   "execution_count": null,
   "metadata": {
    "scrolled": false
   },
   "outputs": [],
   "source": [
    "# (Optional) plot flow in the etimated frame of the shock\n",
    "plt1d.plot_all_flow(dflow, axis='_xx', xxindex = 0, yyindex = 0, zzindex = 0, flnm=resultsdir+resultstag+'flow.png')\n",
    "plt1d.plot_all_flow(dflow, axis='_xx', xxindex = 0, yyindex = 0, zzindex = 0)"
   ]
  },
  {
   "cell_type": "markdown",
   "metadata": {},
   "source": [
    "### Load FPC data"
   ]
  },
  {
   "cell_type": "code",
   "execution_count": null,
   "metadata": {},
   "outputs": [],
   "source": [
    "ncflnm = '../M05results/m05.nc'\n",
    "Hist, CEx, CEy, CEz, vx, vy, vz, x, enerCEx, enerCEy, enerCEz, Vframe_relative_to_sim, metadata_in, params_in = dnc.load3Vnetcdf4(ncflnm)"
   ]
  },
  {
   "cell_type": "markdown",
   "metadata": {},
   "source": [
    "### Look for signature bounds"
   ]
  },
  {
   "cell_type": "code",
   "execution_count": null,
   "metadata": {},
   "outputs": [],
   "source": [
    "startval = 24.0#lower bound for sda metadata = 1 (di)\n",
    "endval = 27.0 #upper bound for sda metadata = 1 (di)"
   ]
  },
  {
   "cell_type": "code",
   "execution_count": null,
   "metadata": {},
   "outputs": [],
   "source": [
    "#option one, use Ex(x,y=0,z=0) to find SDA bounds. Should range from the start of the ramp to the first zero crossing\n",
    "yyindex = 0\n",
    "zzindex = 0\n",
    "plt1d.plot_field(dfields, 'ex', axis='_xx', yyindex = yyindex, zzindex = zzindex, axvx1 = startval, axvx2 = endval,flnm=resultsdir+resultstag+'shockbounds.png')\n",
    "plt1d.plot_field(dfields, 'ex', axis='_xx', yyindex = yyindex, zzindex = zzindex, axvx1 = startval, axvx2 = endval)"
   ]
  },
  {
   "cell_type": "code",
   "execution_count": null,
   "metadata": {},
   "outputs": [],
   "source": [
    "#option two (better but harder), look at the FPC signatures and see when the shock starts and stops\n",
    "\n",
    "#Plot FPCs and dist funcs at start val-------------------------------------------------------------\n",
    "#grab index of starval\n",
    "i = ao.find_nearest(x, startval)\n",
    "\n",
    "#Project onto 2d axis\n",
    "H_xy = ao.array_3d_to_2d(Hist[i],'xy')\n",
    "H_xz = ao.array_3d_to_2d(Hist[i],'xz')\n",
    "H_yz = ao.array_3d_to_2d(Hist[i],'yz')\n",
    "CEx_xy = ao.array_3d_to_2d(CEx[i],'xy')\n",
    "CEx_xz = ao.array_3d_to_2d(CEx[i],'xz')\n",
    "CEx_yz = ao.array_3d_to_2d(CEx[i],'yz')\n",
    "CEy_xy = ao.array_3d_to_2d(CEy[i],'xy')\n",
    "CEy_xz = ao.array_3d_to_2d(CEy[i],'xz')\n",
    "CEy_yz = ao.array_3d_to_2d(CEy[i],'yz')\n",
    "CEz_xy = ao.array_3d_to_2d(CEz[i],'xy')\n",
    "CEz_xz = ao.array_3d_to_2d(CEz[i],'xz')\n",
    "CEz_yz = ao.array_3d_to_2d(CEz[i],'yz')\n",
    "\n",
    "#plot\n",
    "pltvv.plot_cor_and_dist_supergrid(vx, vy, vz, vmax,\n",
    "                                H_xy, H_xz, H_yz,\n",
    "                                CEx_xy,CEx_xz, CEx_yz,\n",
    "                                CEy_xy,CEy_xz, CEy_yz,\n",
    "                                CEz_xy,CEz_xz, CEz_yz,flnm=resultsdir+resultstag+'superplotstartval.png')\n",
    "pltvv.plot_cor_and_dist_supergrid(vx, vy, vz, vmax,\n",
    "                                H_xy, H_xz, H_yz,\n",
    "                                CEx_xy,CEx_xz, CEx_yz,\n",
    "                                CEy_xy,CEy_xz, CEy_yz,\n",
    "                                CEz_xy,CEz_xz, CEz_yz)"
   ]
  },
  {
   "cell_type": "code",
   "execution_count": null,
   "metadata": {},
   "outputs": [],
   "source": [
    "#plot where above signature is\n",
    "plt1d.plot_field(dfields, 'ex', axis='_xx', yyindex = yyindex, zzindex = zzindex, axvx1 = startval,flnm=resultsdir+resultstag+'startvalpos.png')\n",
    "plt1d.plot_field(dfields, 'ex', axis='_xx', yyindex = yyindex, zzindex = zzindex, axvx1 = startval)"
   ]
  },
  {
   "cell_type": "code",
   "execution_count": null,
   "metadata": {},
   "outputs": [],
   "source": [
    "#Plot FPCs and dist funcs at end val--------------------------------------------------------------\n",
    "#grab index of starval\n",
    "i = ao.find_nearest(x, endval)\n",
    "\n",
    "#Project onto 2d axis\n",
    "H_xy = ao.array_3d_to_2d(Hist[i],'xy')\n",
    "H_xz = ao.array_3d_to_2d(Hist[i],'xz')\n",
    "H_yz = ao.array_3d_to_2d(Hist[i],'yz')\n",
    "CEx_xy = ao.array_3d_to_2d(CEx[i],'xy')\n",
    "CEx_xz = ao.array_3d_to_2d(CEx[i],'xz')\n",
    "CEx_yz = ao.array_3d_to_2d(CEx[i],'yz')\n",
    "CEy_xy = ao.array_3d_to_2d(CEy[i],'xy')\n",
    "CEy_xz = ao.array_3d_to_2d(CEy[i],'xz')\n",
    "CEy_yz = ao.array_3d_to_2d(CEy[i],'yz')\n",
    "CEz_xy = ao.array_3d_to_2d(CEz[i],'xy')\n",
    "CEz_xz = ao.array_3d_to_2d(CEz[i],'xz')\n",
    "CEz_yz = ao.array_3d_to_2d(CEz[i],'yz')\n",
    "\n",
    "#plot\n",
    "pltvv.plot_cor_and_dist_supergrid(vx, vy, vz, vmax,\n",
    "                                H_xy, H_xz, H_yz,\n",
    "                                CEx_xy,CEx_xz, CEx_yz,\n",
    "                                CEy_xy,CEy_xz, CEy_yz,\n",
    "                                CEz_xy,CEz_xz, CEz_yz,flnm=resultsdir+resultstag+'superplotendval.png')\n",
    "pltvv.plot_cor_and_dist_supergrid(vx, vy, vz, vmax,\n",
    "                                H_xy, H_xz, H_yz,\n",
    "                                CEx_xy,CEx_xz, CEx_yz,\n",
    "                                CEy_xy,CEy_xz, CEy_yz,\n",
    "                                CEz_xy,CEz_xz, CEz_yz)"
   ]
  },
  {
   "cell_type": "code",
   "execution_count": null,
   "metadata": {},
   "outputs": [],
   "source": [
    "#plot where above signature is\n",
    "plt1d.plot_field(dfields, 'ex', axis='_xx', yyindex = yyindex, zzindex = zzindex, axvx1 = endval,flnm=resultsdir+resultstag+'endvalpos.png')\n",
    "plt1d.plot_field(dfields, 'ex', axis='_xx', yyindex = yyindex, zzindex = zzindex, axvx1 = endval)"
   ]
  },
  {
   "cell_type": "code",
   "execution_count": null,
   "metadata": {},
   "outputs": [],
   "source": [
    "#set metadata using add Metadata script\n",
    "cmd = 'python3 ../scripts/addMetadata.py ' + analysisflnm + ' ' + ncflnm + ' ' + str(startval) + ' ' + str(endval)\n",
    "os.system(cmd)"
   ]
  },
  {
   "cell_type": "markdown",
   "metadata": {},
   "source": [
    "### Look for shock rippling"
   ]
  },
  {
   "cell_type": "markdown",
   "metadata": {},
   "source": [
    "#### Make pmesh of fields"
   ]
  },
  {
   "cell_type": "code",
   "execution_count": null,
   "metadata": {},
   "outputs": [],
   "source": [
    "#plot xy plane at z=0 \n",
    "plt2d.make_field_pmesh(dfields,'bz','xy',takeaxisaverage=False, xxindex=float('nan'), yyindex=float('nan'), zzindex=0, xlimmin=None,xlimmax=None,flnm=resultsdir+resultstag+'Bzpmesh.png')\n",
    "plt2d.make_field_pmesh(dfields,'bz','xy',takeaxisaverage=False, xxindex=float('nan'), yyindex=float('nan'), zzindex=0, xlimmin=None,xlimmax=None)"
   ]
  },
  {
   "cell_type": "code",
   "execution_count": null,
   "metadata": {},
   "outputs": [],
   "source": [
    "#zoom in on potential ripple xy plane at z=0\n",
    "plt2d.make_field_pmesh(dfields,'bz','xy',takeaxisaverage=False, xxindex=float('nan'), yyindex=float('nan'), zzindex=0, xlimmin=startval,xlimmax=endval,flnm=resultsdir+resultstag+'Bzpeshzoomed.png')\n",
    "plt2d.make_field_pmesh(dfields,'bz','xy',flnm = '',takeaxisaverage=False, xxindex=float('nan'), yyindex=float('nan'), zzindex=0, xlimmin=startval,xlimmax=endval)"
   ]
  },
  {
   "cell_type": "markdown",
   "metadata": {},
   "source": [
    "#### Make stacked line plot"
   ]
  },
  {
   "cell_type": "code",
   "execution_count": null,
   "metadata": {},
   "outputs": [],
   "source": [
    "plt1d.plot_stack_field_along_x(dfields,'bz','_yy',yyindex=0,zzindex=0,xlow=startval,xhigh=endval,flnm=resultsdir+resultstag+'stackedripple.png')\n",
    "plt1d.plot_stack_field_along_x(dfields,'bz','_yy',yyindex=0,zzindex=0,xlow=startval,xhigh=endval)"
   ]
  },
  {
   "cell_type": "markdown",
   "metadata": {},
   "source": [
    "### Diagnose corrugation instability\n",
    "#### look at number of significant wave modes in fourier space\n",
    "#### still WIP"
   ]
  },
  {
   "cell_type": "code",
   "execution_count": null,
   "metadata": {},
   "outputs": [],
   "source": [
    "shockval = 15.0 #di, some slice in the ramp of the shock\n",
    "i = ao.find_nearest(x, shockval)\n",
    "pltfr.plot_fft_norm(dfields,'bz','yz',takeaxisaverage=False, xxindex=i, yyindex=float('nan'), zzindex=float('nan'), plotlog = False, xaxislim=None, yaxislim=None,flnm=resultsdir+resultstag+'2dfftinramp.png')\n",
    "pltfr.plot_fft_norm(dfields,'bz','yz',flnm = '',takeaxisaverage=False, xxindex=i, yyindex=float('nan'), zzindex=float('nan'), plotlog = False, xaxislim=None, yaxislim=None)"
   ]
  },
  {
   "cell_type": "code",
   "execution_count": null,
   "metadata": {},
   "outputs": [],
   "source": []
  },
  {
   "cell_type": "markdown",
   "metadata": {},
   "source": [
    "### Generate sweep gifs"
   ]
  },
  {
   "cell_type": "markdown",
   "metadata": {},
   "source": [
    "#### Generate sweeps of superplot"
   ]
  },
  {
   "cell_type": "code",
   "execution_count": null,
   "metadata": {},
   "outputs": [],
   "source": [
    "pltvv.make_superplot_gif(vx,vy,vz,vmax,Hist,CEx,CEy,CEz,x,resultsdir+'superplotscanfiles',resultsdir+resultstag+'superplot.gif')"
   ]
  },
  {
   "cell_type": "code",
   "execution_count": null,
   "metadata": {},
   "outputs": [],
   "source": [
    "rsltmng.make_gif_from_folder(resultsdir+'superplotscanfiles',resultsdir+resultstag+'superplot.gif')"
   ]
  },
  {
   "cell_type": "code",
   "execution_count": null,
   "metadata": {},
   "outputs": [],
   "source": [
    "plt1d.make_field_scan_gif(dfields,'ex',resultsdir+'fieldscanfiles',resultsdir+resultstag+'scan.gif')"
   ]
  },
  {
   "cell_type": "code",
   "execution_count": null,
   "metadata": {},
   "outputs": [],
   "source": [
    "rsltmng.make_gif_from_folder(resultsdir+'fieldscanfiles',resultsdir+resultstag+'fieldscan.gif')"
   ]
  },
  {
   "cell_type": "code",
   "execution_count": null,
   "metadata": {},
   "outputs": [],
   "source": []
  }
 ],
 "metadata": {
  "kernelspec": {
   "display_name": "Python 3",
   "language": "python",
   "name": "python3"
  },
  "language_info": {
   "codemirror_mode": {
    "name": "ipython",
    "version": 3
   },
   "file_extension": ".py",
   "mimetype": "text/x-python",
   "name": "python",
   "nbconvert_exporter": "python",
   "pygments_lexer": "ipython3",
   "version": "3.8.10"
  }
 },
 "nbformat": 4,
 "nbformat_minor": 2
}
