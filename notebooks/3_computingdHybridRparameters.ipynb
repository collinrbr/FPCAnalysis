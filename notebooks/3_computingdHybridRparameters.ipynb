{
 "cells": [
  {
   "cell_type": "code",
   "execution_count": 1,
   "id": "0a6328fc",
   "metadata": {},
   "outputs": [],
   "source": [
    "import FPCAnalysis\n",
    "import numpy as np"
   ]
  },
  {
   "cell_type": "code",
   "execution_count": 2,
   "id": "7e1e6bfd",
   "metadata": {},
   "outputs": [],
   "source": [
    "#load everything we need\n",
    "#-----------------------\n",
    "\n",
    "path = '/home/crbrown/M06_th45/'\n",
    "numframe = 2000\n",
    "inputs = FPCAnalysis.ddhr.read_input(path=path)\n",
    "\n",
    "#load the fields data\n",
    "dfields = FPCAnalysis.ddhr.field_loader(path=path,num=numframe)\n",
    "dfields.keys()\n",
    "\n",
    "#load the density data\n",
    "dden = FPCAnalysis.ddhr.den_loader(path=path,num=numframe)\n",
    "dden.keys()\n",
    "\n",
    "#load downstream particles\n",
    "path_particles = path+\"Output/Raw/Sp01/raw_sp01_{:08d}.h5\" #note that this specifies the species!\n",
    "x1 = 55.5\n",
    "x2 = 56.5\n",
    "y1 = 0\n",
    "y2 = .5 #note, for the example data, yz plane is 12x12 d_i large, but here we load just part of that for computational efficiency while learning\n",
    "z1 = 0\n",
    "z2 = .5\n",
    "dparticles = FPCAnalysis.ddhr.read_box_of_particles(path_particles, numframe, x1, x2, y1, y2, z1, z2)\n",
    "\n"
   ]
  },
  {
   "cell_type": "code",
   "execution_count": null,
   "id": "4f4d03e7",
   "metadata": {},
   "outputs": [],
   "source": [
    "#compute plasma beta"
   ]
  },
  {
   "cell_type": "code",
   "execution_count": null,
   "id": "5f002e11",
   "metadata": {},
   "outputs": [],
   "source": [
    "#compute density as a function of position"
   ]
  },
  {
   "cell_type": "code",
   "execution_count": null,
   "id": "85a2aacc",
   "metadata": {},
   "outputs": [],
   "source": [
    "#compute temperature ratio as a function of position"
   ]
  }
 ],
 "metadata": {
  "kernelspec": {
   "display_name": "Python 3 (ipykernel)",
   "language": "python",
   "name": "python3"
  },
  "language_info": {
   "codemirror_mode": {
    "name": "ipython",
    "version": 3
   },
   "file_extension": ".py",
   "mimetype": "text/x-python",
   "name": "python",
   "nbconvert_exporter": "python",
   "pygments_lexer": "ipython3",
   "version": "3.11.0"
  }
 },
 "nbformat": 4,
 "nbformat_minor": 5
}
