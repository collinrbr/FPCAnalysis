{
 "cells": [
  {
   "cell_type": "markdown",
   "metadata": {},
   "source": [
    "# dHybridR M06_th45 2D Analysis\n",
    "#### Here we analyze a specific simulation, assuming that FPC data has already been generated\n",
    "\n",
    "Note: we generate most plots twice, once to make appear in notebook, once to save as png. TODO: streamline this"
   ]
  },
  {
   "cell_type": "code",
   "execution_count": 1,
   "metadata": {},
   "outputs": [],
   "source": [
    "#Need this to add libraries in parent folder\n",
    "import sys\n",
    "sys.path.append('..')\n",
    "sys.path.append('.')\n",
    "sys.path.append('../lib')"
   ]
  },
  {
   "cell_type": "code",
   "execution_count": 2,
   "metadata": {},
   "outputs": [
    {
     "name": "stderr",
     "output_type": "stream",
     "text": [
      "/home/collbrown/dHybridR/analysis/dHybridRAnalysis/notebooks/../lib/data_h5.py:148: SyntaxWarning: \"is not\" with a literal. Did you mean \"!=\"?\n",
      "  if path[-1] is not '/': path = path + '/'\n",
      "/home/collbrown/dHybridR/analysis/dHybridRAnalysis/notebooks/../lib/data_h5.py:256: SyntaxWarning: \"is not\" with a literal. Did you mean \"!=\"?\n",
      "  if path[-1] is not '/': path = path + '/'\n",
      "/home/collbrown/dHybridR/analysis/dHybridRAnalysis/notebooks/../lib/data_h5.py:318: SyntaxWarning: \"is not\" with a literal. Did you mean \"!=\"?\n",
      "  if path[-1] is not '/': path = path + '/'\n"
     ]
    }
   ],
   "source": [
    "import lib.analysis as anl \n",
    "import lib.array_ops as ao\n",
    "import lib.data_h5 as dh5\n",
    "import lib.data_netcdf4 as dnc\n",
    "import lib.fpc as fpc\n",
    "import lib.frametransform as ft\n",
    "import lib.metadata as md\n",
    "\n",
    "import lib.plot.oned as plt1d\n",
    "import lib.plot.twod as plt2d\n",
    "import lib.plot.debug as pltdebug\n",
    "import lib.plot.fourier as pltfr\n",
    "import lib.plot.resultsmanager as rsltmng\n",
    "import lib.plot.velspace as pltvv\n",
    "\n",
    "import os\n",
    "import math\n",
    "import numpy as np"
   ]
  },
  {
   "cell_type": "markdown",
   "metadata": {},
   "source": [
    "## Load data"
   ]
  },
  {
   "cell_type": "code",
   "execution_count": 3,
   "metadata": {},
   "outputs": [],
   "source": [
    "# load analysis file\n",
    "analysisflnm = '../analysisinputsperp/m06_th45input2d.txt'\n",
    "path,resultsdir,vmax,dv,numframe,dx,xlim,ylim,zlim = anl.analysis_input(flnm = analysisflnm)\n",
    "path_particles = path+'Output/Raw/Sp01/raw_sp01_{:08d}.h5'"
   ]
  },
  {
   "cell_type": "code",
   "execution_count": 4,
   "metadata": {},
   "outputs": [
    {
     "data": {
      "text/plain": [
       "256"
      ]
     },
     "execution_count": 4,
     "metadata": {},
     "output_type": "execute_result"
    }
   ],
   "source": [
    "#make results directory\n",
    "resultstag = 'M06_th452d'\n",
    "resultsdir = resultstag+'results/'\n",
    "os.system('mkdir ' + resultsdir)"
   ]
  },
  {
   "cell_type": "code",
   "execution_count": 5,
   "metadata": {
    "scrolled": true
   },
   "outputs": [],
   "source": [
    "#load fields\n",
    "dfields = dh5.field_loader(path=path,num=numframe,is2d3v=True)\n",
    "\n",
    "#load flow data\n",
    "dflow = dh5.flow_loader(path=path,num=numframe,is2d3v=True)\n"
   ]
  },
  {
   "cell_type": "code",
   "execution_count": 6,
   "metadata": {},
   "outputs": [
    {
     "data": {
      "text/plain": [
       "dict_keys(['ex', 'ex_xx', 'ex_yy', 'ey', 'ey_xx', 'ey_yy', 'ez', 'ez_xx', 'ez_yy', 'bx', 'bx_xx', 'bx_yy', 'by', 'by_xx', 'by_yy', 'bz', 'bz_xx', 'bz_yy', 'Vframe_relative_to_sim'])"
      ]
     },
     "execution_count": 6,
     "metadata": {},
     "output_type": "execute_result"
    }
   ],
   "source": [
    "dfields.keys()"
   ]
  },
  {
   "cell_type": "code",
   "execution_count": 7,
   "metadata": {},
   "outputs": [],
   "source": [
    "dparticles = dh5.read_particles(path_particles,numframe,is2d3v=True)"
   ]
  },
  {
   "cell_type": "code",
   "execution_count": 8,
   "metadata": {},
   "outputs": [
    {
     "data": {
      "text/plain": [
       "{'p1': array([-6.086775 , -5.8394556, -6.4944506, ..., -5.303186 , -4.76487  ,\n",
       "        -6.240882 ], dtype=float32),\n",
       " 'p2': array([-1.7467011 , -1.5586746 , -0.62981725, ..., -1.058637  ,\n",
       "        -1.2323486 , -1.5020976 ], dtype=float32),\n",
       " 'p3': array([ 0.09673929,  0.31545776, -0.49248534, ...,  0.6542207 ,\n",
       "        -0.4666493 ,  0.34082678], dtype=float32),\n",
       " 'x1': array([34.21381 , 34.255028, 34.15678 , ..., 71.05757 , 70.42394 ,\n",
       "        70.0771  ], dtype=float32),\n",
       " 'x2': array([ 2.5818243,  2.7723327,  2.909247 , ..., 47.98753  , 47.995106 ,\n",
       "        47.975784 ], dtype=float32),\n",
       " 'Vframe_relative_to_sim': 0.0}"
      ]
     },
     "execution_count": 8,
     "metadata": {},
     "output_type": "execute_result"
    }
   ],
   "source": [
    "dparticles"
   ]
  },
  {
   "cell_type": "code",
   "execution_count": 9,
   "metadata": {},
   "outputs": [],
   "source": [
    "all_dfields = dh5.all_dfield_loader(path=path, verbose=False,is2d3v=True)"
   ]
  },
  {
   "cell_type": "code",
   "execution_count": 11,
   "metadata": {},
   "outputs": [
    {
     "data": {
      "text/plain": [
       "(192, 384)"
      ]
     },
     "execution_count": 11,
     "metadata": {},
     "output_type": "execute_result"
    }
   ],
   "source": [
    "dfields['ex'].shape"
   ]
  },
  {
   "cell_type": "markdown",
   "metadata": {},
   "source": [
    "### Lorentz transform fields and shift frame of flow"
   ]
  },
  {
   "cell_type": "code",
   "execution_count": 10,
   "metadata": {},
   "outputs": [
    {
     "ename": "IndexError",
     "evalue": "invalid index to scalar variable.",
     "output_type": "error",
     "traceback": [
      "\u001b[0;31m---------------------------------------------------------------------------\u001b[0m",
      "\u001b[0;31mIndexError\u001b[0m                                Traceback (most recent call last)",
      "\u001b[0;32m<ipython-input-10-dffcdcd86799>\u001b[0m in \u001b[0;36m<module>\u001b[0;34m\u001b[0m\n\u001b[0;32m----> 1\u001b[0;31m \u001b[0mvshock\u001b[0m\u001b[0;34m,\u001b[0m \u001b[0mxshockvals\u001b[0m \u001b[0;34m=\u001b[0m \u001b[0mft\u001b[0m\u001b[0;34m.\u001b[0m\u001b[0mshock_from_ex_cross\u001b[0m\u001b[0;34m(\u001b[0m\u001b[0mall_dfields\u001b[0m\u001b[0;34m)\u001b[0m\u001b[0;34m\u001b[0m\u001b[0;34m\u001b[0m\u001b[0m\n\u001b[0m",
      "\u001b[0;32m~/dHybridR/analysis/dHybridRAnalysis/notebooks/../lib/frametransform.py\u001b[0m in \u001b[0;36mshock_from_ex_cross\u001b[0;34m(all_fields, dt)\u001b[0m\n\u001b[1;32m    161\u001b[0m     \u001b[0mxshockvals\u001b[0m \u001b[0;34m=\u001b[0m \u001b[0;34m[\u001b[0m\u001b[0;34m]\u001b[0m\u001b[0;34m\u001b[0m\u001b[0;34m\u001b[0m\u001b[0m\n\u001b[1;32m    162\u001b[0m     \u001b[0;32mfor\u001b[0m \u001b[0mk\u001b[0m \u001b[0;32min\u001b[0m \u001b[0mrange\u001b[0m\u001b[0;34m(\u001b[0m\u001b[0;36m0\u001b[0m\u001b[0;34m,\u001b[0m\u001b[0mlen\u001b[0m\u001b[0;34m(\u001b[0m\u001b[0mall_fields\u001b[0m\u001b[0;34m[\u001b[0m\u001b[0;34m'dfields'\u001b[0m\u001b[0;34m]\u001b[0m\u001b[0;34m)\u001b[0m\u001b[0;34m)\u001b[0m\u001b[0;34m:\u001b[0m\u001b[0;34m\u001b[0m\u001b[0;34m\u001b[0m\u001b[0m\n\u001b[0;32m--> 163\u001b[0;31m         \u001b[0mxshockvals\u001b[0m\u001b[0;34m.\u001b[0m\u001b[0mappend\u001b[0m\u001b[0;34m(\u001b[0m\u001b[0mestimate_shock_pos\u001b[0m\u001b[0;34m(\u001b[0m\u001b[0mall_fields\u001b[0m\u001b[0;34m[\u001b[0m\u001b[0;34m'dfields'\u001b[0m\u001b[0;34m]\u001b[0m\u001b[0;34m[\u001b[0m\u001b[0mk\u001b[0m\u001b[0;34m]\u001b[0m\u001b[0;34m)\u001b[0m\u001b[0;34m)\u001b[0m \u001b[0;31m#note: doesn't work until shock forms\u001b[0m\u001b[0;34m\u001b[0m\u001b[0;34m\u001b[0m\u001b[0m\n\u001b[0m\u001b[1;32m    164\u001b[0m \u001b[0;34m\u001b[0m\u001b[0m\n\u001b[1;32m    165\u001b[0m     \u001b[0;31m#get shock velocity\u001b[0m\u001b[0;34m\u001b[0m\u001b[0;34m\u001b[0m\u001b[0;34m\u001b[0m\u001b[0m\n",
      "\u001b[0;32m~/dHybridR/analysis/dHybridRAnalysis/notebooks/../lib/frametransform.py\u001b[0m in \u001b[0;36mestimate_shock_pos\u001b[0;34m(dfields, yyindex, zzindex)\u001b[0m\n\u001b[1;32m    101\u001b[0m     \u001b[0;32mfrom\u001b[0m \u001b[0mscipy\u001b[0m\u001b[0;34m.\u001b[0m\u001b[0msignal\u001b[0m \u001b[0;32mimport\u001b[0m \u001b[0margrelextrema\u001b[0m\u001b[0;34m\u001b[0m\u001b[0;34m\u001b[0m\u001b[0m\n\u001b[1;32m    102\u001b[0m \u001b[0;34m\u001b[0m\u001b[0m\n\u001b[0;32m--> 103\u001b[0;31m     \u001b[0mExvals\u001b[0m \u001b[0;34m=\u001b[0m \u001b[0mnp\u001b[0m\u001b[0;34m.\u001b[0m\u001b[0masarray\u001b[0m\u001b[0;34m(\u001b[0m\u001b[0;34m[\u001b[0m\u001b[0mdfields\u001b[0m\u001b[0;34m[\u001b[0m\u001b[0;34m'ex'\u001b[0m\u001b[0;34m]\u001b[0m\u001b[0;34m[\u001b[0m\u001b[0mzzindex\u001b[0m\u001b[0;34m]\u001b[0m\u001b[0;34m[\u001b[0m\u001b[0myyindex\u001b[0m\u001b[0;34m]\u001b[0m\u001b[0;34m[\u001b[0m\u001b[0mi\u001b[0m\u001b[0;34m]\u001b[0m \u001b[0;32mfor\u001b[0m \u001b[0mi\u001b[0m \u001b[0;32min\u001b[0m \u001b[0mrange\u001b[0m\u001b[0;34m(\u001b[0m\u001b[0;36m0\u001b[0m\u001b[0;34m,\u001b[0m\u001b[0mlen\u001b[0m\u001b[0;34m(\u001b[0m\u001b[0mdfields\u001b[0m\u001b[0;34m[\u001b[0m\u001b[0;34m'ex_xx'\u001b[0m\u001b[0;34m]\u001b[0m\u001b[0;34m)\u001b[0m\u001b[0;34m)\u001b[0m\u001b[0;34m]\u001b[0m\u001b[0;34m)\u001b[0m\u001b[0;34m\u001b[0m\u001b[0;34m\u001b[0m\u001b[0m\n\u001b[0m\u001b[1;32m    104\u001b[0m     \u001b[0mxvals\u001b[0m \u001b[0;34m=\u001b[0m \u001b[0mnp\u001b[0m\u001b[0;34m.\u001b[0m\u001b[0masarray\u001b[0m\u001b[0;34m(\u001b[0m\u001b[0mdfields\u001b[0m\u001b[0;34m[\u001b[0m\u001b[0;34m'ex_xx'\u001b[0m\u001b[0;34m]\u001b[0m\u001b[0;34m)\u001b[0m\u001b[0;34m\u001b[0m\u001b[0;34m\u001b[0m\u001b[0m\n\u001b[1;32m    105\u001b[0m \u001b[0;34m\u001b[0m\u001b[0m\n",
      "\u001b[0;32m~/dHybridR/analysis/dHybridRAnalysis/notebooks/../lib/frametransform.py\u001b[0m in \u001b[0;36m<listcomp>\u001b[0;34m(.0)\u001b[0m\n\u001b[1;32m    101\u001b[0m     \u001b[0;32mfrom\u001b[0m \u001b[0mscipy\u001b[0m\u001b[0;34m.\u001b[0m\u001b[0msignal\u001b[0m \u001b[0;32mimport\u001b[0m \u001b[0margrelextrema\u001b[0m\u001b[0;34m\u001b[0m\u001b[0;34m\u001b[0m\u001b[0m\n\u001b[1;32m    102\u001b[0m \u001b[0;34m\u001b[0m\u001b[0m\n\u001b[0;32m--> 103\u001b[0;31m     \u001b[0mExvals\u001b[0m \u001b[0;34m=\u001b[0m \u001b[0mnp\u001b[0m\u001b[0;34m.\u001b[0m\u001b[0masarray\u001b[0m\u001b[0;34m(\u001b[0m\u001b[0;34m[\u001b[0m\u001b[0mdfields\u001b[0m\u001b[0;34m[\u001b[0m\u001b[0;34m'ex'\u001b[0m\u001b[0;34m]\u001b[0m\u001b[0;34m[\u001b[0m\u001b[0mzzindex\u001b[0m\u001b[0;34m]\u001b[0m\u001b[0;34m[\u001b[0m\u001b[0myyindex\u001b[0m\u001b[0;34m]\u001b[0m\u001b[0;34m[\u001b[0m\u001b[0mi\u001b[0m\u001b[0;34m]\u001b[0m \u001b[0;32mfor\u001b[0m \u001b[0mi\u001b[0m \u001b[0;32min\u001b[0m \u001b[0mrange\u001b[0m\u001b[0;34m(\u001b[0m\u001b[0;36m0\u001b[0m\u001b[0;34m,\u001b[0m\u001b[0mlen\u001b[0m\u001b[0;34m(\u001b[0m\u001b[0mdfields\u001b[0m\u001b[0;34m[\u001b[0m\u001b[0;34m'ex_xx'\u001b[0m\u001b[0;34m]\u001b[0m\u001b[0;34m)\u001b[0m\u001b[0;34m)\u001b[0m\u001b[0;34m]\u001b[0m\u001b[0;34m)\u001b[0m\u001b[0;34m\u001b[0m\u001b[0;34m\u001b[0m\u001b[0m\n\u001b[0m\u001b[1;32m    104\u001b[0m     \u001b[0mxvals\u001b[0m \u001b[0;34m=\u001b[0m \u001b[0mnp\u001b[0m\u001b[0;34m.\u001b[0m\u001b[0masarray\u001b[0m\u001b[0;34m(\u001b[0m\u001b[0mdfields\u001b[0m\u001b[0;34m[\u001b[0m\u001b[0;34m'ex_xx'\u001b[0m\u001b[0;34m]\u001b[0m\u001b[0;34m)\u001b[0m\u001b[0;34m\u001b[0m\u001b[0;34m\u001b[0m\u001b[0m\n\u001b[1;32m    105\u001b[0m \u001b[0;34m\u001b[0m\u001b[0m\n",
      "\u001b[0;31mIndexError\u001b[0m: invalid index to scalar variable."
     ]
    }
   ],
   "source": [
    "vshock, xshockvals = ft.shock_from_ex_cross(all_dfields)"
   ]
  },
  {
   "cell_type": "code",
   "execution_count": null,
   "metadata": {},
   "outputs": [],
   "source": [
    "## (Optional) Check if shock was tracked well. We use the back half in time to fit to a line\n",
    "#plt1d.time_stack_line_plot(all_dfields,'ex',pts = xshockvals)"
   ]
  },
  {
   "cell_type": "code",
   "execution_count": null,
   "metadata": {},
   "outputs": [],
   "source": [
    "#loretnz transform fields\n",
    "dfields = ft.lorentz_transform_vx(dfields,vshock)\n",
    "_fields = []\n",
    "for k in range(0,len(all_dfields['dfields'])):\n",
    "    _fields.append(ft.lorentz_transform_vx(all_dfields['dfields'][k],vshock))\n",
    "all_dfields['dfields'] = _fields\n",
    "\n",
    "#tranform flow\n",
    "dflow = ft.transform_flow(dflow,vshock)"
   ]
  },
  {
   "cell_type": "code",
   "execution_count": null,
   "metadata": {},
   "outputs": [],
   "source": [
    "# (Optional) plot all the lorentz transformed fields\n",
    "plt1d.plot_all_fields(dfields, axis='_xx', xxindex = 0, yyindex = 0, zzindex = 0, flnm=resultsdir+resultstag+'fields.png')\n",
    "plt1d.plot_all_fields(dfields, axis='_xx', xxindex = 0, yyindex = 0, zzindex = 0)"
   ]
  },
  {
   "cell_type": "code",
   "execution_count": null,
   "metadata": {
    "scrolled": false
   },
   "outputs": [],
   "source": [
    "# (Optional) plot flow in the etimated frame of the shock\n",
    "plt1d.plot_all_flow(dflow, axis='_xx', xxindex = 0, yyindex = 0, zzindex = 0, flnm=resultsdir+resultstag+'flow.png')\n",
    "plt1d.plot_all_flow(dflow, axis='_xx', xxindex = 0, yyindex = 0, zzindex = 0)"
   ]
  },
  {
   "cell_type": "markdown",
   "metadata": {},
   "source": [
    "### Load FPC data"
   ]
  },
  {
   "cell_type": "code",
   "execution_count": null,
   "metadata": {},
   "outputs": [],
   "source": [
    "ncflnm = '../M06_th45results/m06_th45.nc'\n",
    "Hist, CEx, CEy, CEz, vx, vy, vz, x, enerCEx, enerCEy, enerCEz, Vframe_relative_to_sim, metadata_in, params_in = dnc.load3Vnetcdf4(ncflnm)"
   ]
  },
  {
   "cell_type": "markdown",
   "metadata": {},
   "source": [
    "### Look for signature bounds"
   ]
  },
  {
   "cell_type": "code",
   "execution_count": null,
   "metadata": {},
   "outputs": [],
   "source": [
    "startval = 19.0#lower bound for sda metadata = 1 (di)\n",
    "endval = 25.5#upper bound for sda metadata = 1 (di)"
   ]
  },
  {
   "cell_type": "code",
   "execution_count": null,
   "metadata": {},
   "outputs": [],
   "source": [
    "#option one, use Ex(x,y=0,z=0) to find SDA bounds. Should range from the start of the ramp to the first zero crossing\n",
    "yyindex = 0\n",
    "zzindex = 0\n",
    "plt1d.plot_field(dfields, 'ex', axis='_xx', yyindex = yyindex, zzindex = zzindex, axvx1 = startval, axvx2 = endval,flnm=resultsdir+resultstag+'shockbounds.png')\n",
    "plt1d.plot_field(dfields, 'ex', axis='_xx', yyindex = yyindex, zzindex = zzindex, axvx1 = startval, axvx2 = endval)"
   ]
  },
  {
   "cell_type": "code",
   "execution_count": null,
   "metadata": {},
   "outputs": [],
   "source": [
    "#option two (better but harder), look at the FPC signatures and see when the shock starts and stops\n",
    "\n",
    "#Plot FPCs and dist funcs at start val-------------------------------------------------------------\n",
    "#grab index of starval\n",
    "i = ao.find_nearest(x, startval)\n",
    "\n",
    "#Project onto 2d axis\n",
    "H_xy = ao.array_3d_to_2d(Hist[i],'xy')\n",
    "H_xz = ao.array_3d_to_2d(Hist[i],'xz')\n",
    "H_yz = ao.array_3d_to_2d(Hist[i],'yz')\n",
    "CEx_xy = ao.array_3d_to_2d(CEx[i],'xy')\n",
    "CEx_xz = ao.array_3d_to_2d(CEx[i],'xz')\n",
    "CEx_yz = ao.array_3d_to_2d(CEx[i],'yz')\n",
    "CEy_xy = ao.array_3d_to_2d(CEy[i],'xy')\n",
    "CEy_xz = ao.array_3d_to_2d(CEy[i],'xz')\n",
    "CEy_yz = ao.array_3d_to_2d(CEy[i],'yz')\n",
    "CEz_xy = ao.array_3d_to_2d(CEz[i],'xy')\n",
    "CEz_xz = ao.array_3d_to_2d(CEz[i],'xz')\n",
    "CEz_yz = ao.array_3d_to_2d(CEz[i],'yz')\n",
    "\n",
    "#plot\n",
    "pltvv.plot_cor_and_dist_supergrid(vx, vy, vz, vmax,\n",
    "                                H_xy, H_xz, H_yz,\n",
    "                                CEx_xy,CEx_xz, CEx_yz,\n",
    "                                CEy_xy,CEy_xz, CEy_yz,\n",
    "                                CEz_xy,CEz_xz, CEz_yz,flnm=resultsdir+resultstag+'superplotstartval.png')\n",
    "pltvv.plot_cor_and_dist_supergrid(vx, vy, vz, vmax,\n",
    "                                H_xy, H_xz, H_yz,\n",
    "                                CEx_xy,CEx_xz, CEx_yz,\n",
    "                                CEy_xy,CEy_xz, CEy_yz,\n",
    "                                CEz_xy,CEz_xz, CEz_yz)"
   ]
  },
  {
   "cell_type": "code",
   "execution_count": null,
   "metadata": {},
   "outputs": [],
   "source": [
    "#plot where above signature is\n",
    "plt1d.plot_field(dfields, 'ex', axis='_xx', yyindex = yyindex, zzindex = zzindex, axvx1 = startval,flnm=resultsdir+resultstag+'startvalpos.png')\n",
    "plt1d.plot_field(dfields, 'ex', axis='_xx', yyindex = yyindex, zzindex = zzindex, axvx1 = startval)"
   ]
  },
  {
   "cell_type": "code",
   "execution_count": null,
   "metadata": {},
   "outputs": [],
   "source": [
    "#Plot FPCs and dist funcs at end val--------------------------------------------------------------\n",
    "#grab index of starval\n",
    "i = ao.find_nearest(x, endval)\n",
    "\n",
    "#Project onto 2d axis\n",
    "H_xy = ao.array_3d_to_2d(Hist[i],'xy')\n",
    "H_xz = ao.array_3d_to_2d(Hist[i],'xz')\n",
    "H_yz = ao.array_3d_to_2d(Hist[i],'yz')\n",
    "CEx_xy = ao.array_3d_to_2d(CEx[i],'xy')\n",
    "CEx_xz = ao.array_3d_to_2d(CEx[i],'xz')\n",
    "CEx_yz = ao.array_3d_to_2d(CEx[i],'yz')\n",
    "CEy_xy = ao.array_3d_to_2d(CEy[i],'xy')\n",
    "CEy_xz = ao.array_3d_to_2d(CEy[i],'xz')\n",
    "CEy_yz = ao.array_3d_to_2d(CEy[i],'yz')\n",
    "CEz_xy = ao.array_3d_to_2d(CEz[i],'xy')\n",
    "CEz_xz = ao.array_3d_to_2d(CEz[i],'xz')\n",
    "CEz_yz = ao.array_3d_to_2d(CEz[i],'yz')\n",
    "\n",
    "#plot\n",
    "pltvv.plot_cor_and_dist_supergrid(vx, vy, vz, vmax,\n",
    "                                H_xy, H_xz, H_yz,\n",
    "                                CEx_xy,CEx_xz, CEx_yz,\n",
    "                                CEy_xy,CEy_xz, CEy_yz,\n",
    "                                CEz_xy,CEz_xz, CEz_yz,flnm=resultsdir+resultstag+'superplotendval.png')\n",
    "pltvv.plot_cor_and_dist_supergrid(vx, vy, vz, vmax,\n",
    "                                H_xy, H_xz, H_yz,\n",
    "                                CEx_xy,CEx_xz, CEx_yz,\n",
    "                                CEy_xy,CEy_xz, CEy_yz,\n",
    "                                CEz_xy,CEz_xz, CEz_yz)"
   ]
  },
  {
   "cell_type": "code",
   "execution_count": null,
   "metadata": {},
   "outputs": [],
   "source": [
    "#plot where above signature is\n",
    "plt1d.plot_field(dfields, 'ex', axis='_xx', yyindex = yyindex, zzindex = zzindex, axvx1 = endval,flnm=resultsdir+resultstag+'endvalpos.png')\n",
    "plt1d.plot_field(dfields, 'ex', axis='_xx', yyindex = yyindex, zzindex = zzindex, axvx1 = endval)"
   ]
  },
  {
   "cell_type": "code",
   "execution_count": null,
   "metadata": {},
   "outputs": [],
   "source": [
    "#set metadata using add Metadata script\n",
    "cmd = 'python3 ../scripts/addMetadata.py ' + analysisflnm + ' ' + ncflnm + ' ' + str(startval) + ' ' + str(endval)\n",
    "os.system(cmd)"
   ]
  },
  {
   "cell_type": "markdown",
   "metadata": {},
   "source": [
    "### Look for shock rippling"
   ]
  },
  {
   "cell_type": "markdown",
   "metadata": {},
   "source": [
    "#### Make pmesh of fields"
   ]
  },
  {
   "cell_type": "code",
   "execution_count": null,
   "metadata": {},
   "outputs": [],
   "source": [
    "#plot xy plane at z=0 \n",
    "plt2d.make_field_pmesh(dfields,'bz','xy',takeaxisaverage=False, xxindex=float('nan'), yyindex=float('nan'), zzindex=0, xlimmin=None,xlimmax=None,flnm=resultsdir+resultstag+'Bzpmesh.png')\n",
    "plt2d.make_field_pmesh(dfields,'bz','xy',takeaxisaverage=False, xxindex=float('nan'), yyindex=float('nan'), zzindex=0, xlimmin=None,xlimmax=None)"
   ]
  },
  {
   "cell_type": "code",
   "execution_count": null,
   "metadata": {},
   "outputs": [],
   "source": [
    "#zoom in on potential ripple xy plane at z=0\n",
    "plt2d.make_field_pmesh(dfields,'bz','xy',takeaxisaverage=False, xxindex=float('nan'), yyindex=float('nan'), zzindex=0, xlimmin=startval,xlimmax=endval,flnm=resultsdir+resultstag+'Bzpeshzoomed.png')\n",
    "plt2d.make_field_pmesh(dfields,'bz','xy',flnm = '',takeaxisaverage=False, xxindex=float('nan'), yyindex=float('nan'), zzindex=0, xlimmin=startval,xlimmax=endval)"
   ]
  },
  {
   "cell_type": "markdown",
   "metadata": {},
   "source": [
    "#### Make stacked line plot"
   ]
  },
  {
   "cell_type": "code",
   "execution_count": null,
   "metadata": {},
   "outputs": [],
   "source": [
    "plt1d.plot_stack_field_along_x(dfields,'bz','_yy',yyindex=0,zzindex=0,xlow=startval,xhigh=endval,flnm=resultsdir+resultstag+'stackedripple.png')\n",
    "plt1d.plot_stack_field_along_x(dfields,'bz','_yy',yyindex=0,zzindex=0,xlow=startval,xhigh=endval)"
   ]
  },
  {
   "cell_type": "markdown",
   "metadata": {},
   "source": [
    "### Diagnose corrugation instability\n",
    "#### look at number of significant wave modes in fourier space\n",
    "#### still WIP"
   ]
  },
  {
   "cell_type": "code",
   "execution_count": null,
   "metadata": {},
   "outputs": [],
   "source": [
    "shockval = 15.0 #di, some slice in the ramp of the shock\n",
    "i = ao.find_nearest(x, shockval)\n",
    "pltfr.plot_fft_norm(dfields,'bz','yz',takeaxisaverage=False, xxindex=i, yyindex=float('nan'), zzindex=float('nan'), plotlog = False, xaxislim=None, yaxislim=None,flnm=resultsdir+resultstag+'2dfftinramp.png')\n",
    "pltfr.plot_fft_norm(dfields,'bz','yz',flnm = '',takeaxisaverage=False, xxindex=i, yyindex=float('nan'), zzindex=float('nan'), plotlog = False, xaxislim=None, yaxislim=None)"
   ]
  },
  {
   "cell_type": "code",
   "execution_count": null,
   "metadata": {},
   "outputs": [],
   "source": []
  },
  {
   "cell_type": "markdown",
   "metadata": {},
   "source": [
    "### Generate sweep gifs"
   ]
  },
  {
   "cell_type": "markdown",
   "metadata": {},
   "source": [
    "#### Generate sweeps of superplot"
   ]
  },
  {
   "cell_type": "code",
   "execution_count": null,
   "metadata": {},
   "outputs": [],
   "source": [
    "pltvv.make_superplot_gif(vx,vy,vz,vmax,Hist,CEx,CEy,CEz,x,resultsdir+'superplotscanfiles',resultsdir+resultstag+'superplot.gif')"
   ]
  },
  {
   "cell_type": "code",
   "execution_count": null,
   "metadata": {},
   "outputs": [],
   "source": [
    "rsltmng.make_gif_from_folder(resultsdir+'superplotscanfiles',resultsdir+resultstag+'superplot.gif')"
   ]
  },
  {
   "cell_type": "code",
   "execution_count": null,
   "metadata": {},
   "outputs": [],
   "source": [
    "plt1d.make_field_scan_gif(dfields,'ex',resultsdir+'fieldscanfiles',resultsdir+resultstag+'scan.gif')"
   ]
  },
  {
   "cell_type": "code",
   "execution_count": null,
   "metadata": {},
   "outputs": [],
   "source": [
    "rsltmng.make_gif_from_folder(resultsdir+'fieldscanfiles',resultsdir+resultstag+'fieldscan.gif')"
   ]
  },
  {
   "cell_type": "code",
   "execution_count": null,
   "metadata": {},
   "outputs": [],
   "source": []
  }
 ],
 "metadata": {
  "kernelspec": {
   "display_name": "Python 3",
   "language": "python",
   "name": "python3"
  },
  "language_info": {
   "codemirror_mode": {
    "name": "ipython",
    "version": 3
   },
   "file_extension": ".py",
   "mimetype": "text/x-python",
   "name": "python",
   "nbconvert_exporter": "python",
   "pygments_lexer": "ipython3",
   "version": "3.8.10"
  }
 },
 "nbformat": 4,
 "nbformat_minor": 2
}
