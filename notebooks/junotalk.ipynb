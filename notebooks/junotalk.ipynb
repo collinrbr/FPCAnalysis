{
 "cells": [
  {
   "cell_type": "markdown",
   "metadata": {},
   "source": [
    "# Juno Talk\n",
    "\n",
    "Here we make plots to double check Jimmy's work for his talk on 10/4/2021"
   ]
  },
  {
   "cell_type": "code",
   "execution_count": 1,
   "metadata": {},
   "outputs": [],
   "source": [
    "#Need this to add libraries in parent folder\n",
    "import sys\n",
    "sys.path.append('..')\n",
    "sys.path.append('.')\n",
    "sys.path.append('../lib')"
   ]
  },
  {
   "cell_type": "code",
   "execution_count": 3,
   "metadata": {},
   "outputs": [],
   "source": [
    "import lib.analysis as anl \n",
    "import lib.array_ops as ao\n",
    "import lib.data_h5 as dh5\n",
    "import lib.data_netcdf4 as dnc\n",
    "import lib.fpc as fpc\n",
    "import lib.frametransform as ft\n",
    "import lib.metadata as md\n",
    "\n",
    "import lib.plot.oned as plt1d\n",
    "import lib.plot.twod as plt2d\n",
    "import lib.plot.debug as pltdebug\n",
    "import lib.plot.fourier as pltfr\n",
    "import lib.plot.resultsmanager as rsltmng\n",
    "import lib.plot.velspace as pltvv\n",
    "\n",
    "import os\n",
    "import math\n",
    "import numpy as np"
   ]
  },
  {
   "cell_type": "code",
   "execution_count": null,
   "metadata": {},
   "outputs": [],
   "source": [
    "def make_C_pmesh(v1,v2,vmax,Array):\n",
    "    plt.figure()\n",
    "    #plt.facecolor(bkgcolor)\n",
    "    plt.pcolormesh(v1,v2,Array, cmap=cmap, shading=\"seismic\")#,norm=LogNorm(vmin=minval, vmax=H.max()))\n",
    "    plt.xlim(-vmax, vmax)\n",
    "    plt.ylim(-vmax, vmax)\n",
    "#     plt.set_xticks(np.linspace(-vmax, vmax, numtks))\n",
    "#     plt.set_yticks(np.linspace(-vmax, vmax, numtks))\n",
    "#     plt.set_xlabel(r\"$v_x/v_{ti}$\")\n",
    "#     plt.set_ylabel(r\"$v_z/v_{ti}$\")\n",
    "    plt.grid(color=\"grey\", linestyle=\"--\", linewidth=1.0, alpha=0.6)\n",
    "    plt.aspect('equal', 'box')\n",
    "    plt.show()\n",
    "    "
   ]
  },
  {
   "cell_type": "code",
   "execution_count": null,
   "metadata": {},
   "outputs": [],
   "source": [
    "def make_H_pmesh(v1,v2,vmax,Array):\n",
    "    plt.figure()\n",
    "    #plt.facecolor(bkgcolor)\n",
    "    plt.pcolormesh(v1,v2,Array, cmap=cmap, shading=\"gourand\")#,norm=LogNorm(vmin=minval, vmax=H.max()))\n",
    "    plt.xlim(-vmax, vmax)\n",
    "    plt.ylim(-vmax, vmax)\n",
    "#     plt.set_xticks(np.linspace(-vmax, vmax, numtks))\n",
    "#     plt.set_yticks(np.linspace(-vmax, vmax, numtks))\n",
    "#     plt.set_xlabel(r\"$v_x/v_{ti}$\")\n",
    "#     plt.set_ylabel(r\"$v_z/v_{ti}$\")\n",
    "    plt.grid(color=\"grey\", linestyle=\"--\", linewidth=1.0, alpha=0.6)\n",
    "    plt.aspect('equal', 'box')\n",
    "    plt.show()\n",
    "    "
   ]
  },
  {
   "cell_type": "markdown",
   "metadata": {},
   "source": [
    "## Load data"
   ]
  },
  {
   "cell_type": "code",
   "execution_count": 3,
   "metadata": {},
   "outputs": [],
   "source": [
    "# # load analysis file\n",
    "# analysisflnm = '../analysisinputs/m03input.txt'\n",
    "# path,resultsdir,vmax,dv,numframe,dx,xlim,ylim,zlim = anl.analysis_input(flnm = analysisflnm)\n",
    "# path_particles = path+'Output/Raw/Sp01/raw_sp01_{:08d}.h5'"
   ]
  },
  {
   "cell_type": "code",
   "execution_count": 4,
   "metadata": {},
   "outputs": [
    {
     "data": {
      "text/plain": [
       "256"
      ]
     },
     "execution_count": 4,
     "metadata": {},
     "output_type": "execute_result"
    }
   ],
   "source": [
    "# #make results directory\n",
    "# resultstag = 'M03'\n",
    "# resultsdir = resultstag+'results/'\n",
    "# os.system('mkdir ' + resultsdir)"
   ]
  },
  {
   "cell_type": "markdown",
   "metadata": {},
   "source": [
    "### Load FPC data"
   ]
  },
  {
   "cell_type": "code",
   "execution_count": 6,
   "metadata": {},
   "outputs": [
    {
     "ename": "FileNotFoundError",
     "evalue": "[Errno 2] No such file or directory: b'../M03results/m03.nc'",
     "output_type": "error",
     "traceback": [
      "\u001b[0;31m---------------------------------------------------------------------------\u001b[0m",
      "\u001b[0;31mFileNotFoundError\u001b[0m                         Traceback (most recent call last)",
      "\u001b[0;32m<ipython-input-6-bc185ecde62f>\u001b[0m in \u001b[0;36m<module>\u001b[0;34m\u001b[0m\n\u001b[1;32m      1\u001b[0m \u001b[0mncflnm\u001b[0m \u001b[0;34m=\u001b[0m \u001b[0;34m'../M03results/m03.nc'\u001b[0m\u001b[0;34m\u001b[0m\u001b[0;34m\u001b[0m\u001b[0m\n\u001b[0;32m----> 2\u001b[0;31m \u001b[0mHist\u001b[0m\u001b[0;34m,\u001b[0m \u001b[0mCEx\u001b[0m\u001b[0;34m,\u001b[0m \u001b[0mCEy\u001b[0m\u001b[0;34m,\u001b[0m \u001b[0mCEz\u001b[0m\u001b[0;34m,\u001b[0m \u001b[0mvx\u001b[0m\u001b[0;34m,\u001b[0m \u001b[0mvy\u001b[0m\u001b[0;34m,\u001b[0m \u001b[0mvz\u001b[0m\u001b[0;34m,\u001b[0m \u001b[0mx\u001b[0m\u001b[0;34m,\u001b[0m \u001b[0menerCEx\u001b[0m\u001b[0;34m,\u001b[0m \u001b[0menerCEy\u001b[0m\u001b[0;34m,\u001b[0m \u001b[0menerCEz\u001b[0m\u001b[0;34m,\u001b[0m \u001b[0mVframe_relative_to_sim\u001b[0m\u001b[0;34m,\u001b[0m \u001b[0mmetadata_in\u001b[0m\u001b[0;34m,\u001b[0m \u001b[0mparams_in\u001b[0m \u001b[0;34m=\u001b[0m \u001b[0mdnc\u001b[0m\u001b[0;34m.\u001b[0m\u001b[0mload3Vnetcdf4\u001b[0m\u001b[0;34m(\u001b[0m\u001b[0mncflnm\u001b[0m\u001b[0;34m)\u001b[0m\u001b[0;34m\u001b[0m\u001b[0;34m\u001b[0m\u001b[0m\n\u001b[0m",
      "\u001b[0;32m~/Documents/OneDrive - University of Iowa/Research/DHybridR/analysistools/dHybridRAnalysis/lib/data_netcdf4.py\u001b[0m in \u001b[0;36mload3Vnetcdf4\u001b[0;34m(filename)\u001b[0m\n\u001b[1;32m    388\u001b[0m     \u001b[0;32mfrom\u001b[0m \u001b[0mdatetime\u001b[0m \u001b[0;32mimport\u001b[0m \u001b[0mdatetime\u001b[0m\u001b[0;34m\u001b[0m\u001b[0;34m\u001b[0m\u001b[0m\n\u001b[1;32m    389\u001b[0m \u001b[0;34m\u001b[0m\u001b[0m\n\u001b[0;32m--> 390\u001b[0;31m     \u001b[0mncin\u001b[0m \u001b[0;34m=\u001b[0m \u001b[0mDataset\u001b[0m\u001b[0;34m(\u001b[0m\u001b[0mfilename\u001b[0m\u001b[0;34m,\u001b[0m \u001b[0;34m'r'\u001b[0m\u001b[0;34m,\u001b[0m \u001b[0mformat\u001b[0m\u001b[0;34m=\u001b[0m\u001b[0;34m'NETCDF4'\u001b[0m\u001b[0;34m)\u001b[0m\u001b[0;34m\u001b[0m\u001b[0;34m\u001b[0m\u001b[0m\n\u001b[0m\u001b[1;32m    391\u001b[0m     \u001b[0mncin\u001b[0m\u001b[0;34m.\u001b[0m\u001b[0mset_auto_mask\u001b[0m\u001b[0;34m(\u001b[0m\u001b[0;32mFalse\u001b[0m\u001b[0;34m)\u001b[0m\u001b[0;34m\u001b[0m\u001b[0;34m\u001b[0m\u001b[0m\n\u001b[1;32m    392\u001b[0m \u001b[0;34m\u001b[0m\u001b[0m\n",
      "\u001b[0;32mnetCDF4/_netCDF4.pyx\u001b[0m in \u001b[0;36mnetCDF4._netCDF4.Dataset.__init__\u001b[0;34m()\u001b[0m\n",
      "\u001b[0;32mnetCDF4/_netCDF4.pyx\u001b[0m in \u001b[0;36mnetCDF4._netCDF4._ensure_nc_success\u001b[0;34m()\u001b[0m\n",
      "\u001b[0;31mFileNotFoundError\u001b[0m: [Errno 2] No such file or directory: b'../M03results/m03.nc'"
     ]
    }
   ],
   "source": [
    "ncflnm = '../M03results/m03.nc'\n",
    "Hist, CEx, CEy, CEz, vx, vy, vz, x, enerCEx, enerCEy, enerCEz, Vframe_relative_to_sim, metadata_in, params_in = dnc.load3Vnetcdf4(ncflnm)"
   ]
  },
  {
   "cell_type": "code",
   "execution_count": null,
   "metadata": {},
   "outputs": [],
   "source": [
    "vmax = 25."
   ]
  },
  {
   "cell_type": "code",
   "execution_count": null,
   "metadata": {},
   "outputs": [],
   "source": [
    "#Plot FPCs and dist funcs at end val--------------------------------------------------------------\n",
    "#grab index of starval\n",
    "i = ao.find_nearest(x, endval)\n",
    "\n",
    "#Project onto 2d axis\n",
    "H_xy = ao.array_3d_to_2d(Hist[i],'xy')\n",
    "H_xz = ao.array_3d_to_2d(Hist[i],'xz')\n",
    "H_yz = ao.array_3d_to_2d(Hist[i],'yz')\n",
    "CEx_xy = ao.array_3d_to_2d(CEx[i],'xy')\n",
    "CEx_xz = ao.array_3d_to_2d(CEx[i],'xz')\n",
    "CEx_yz = ao.array_3d_to_2d(CEx[i],'yz')\n",
    "CEy_xy = ao.array_3d_to_2d(CEy[i],'xy')\n",
    "CEy_xz = ao.array_3d_to_2d(CEy[i],'xz')\n",
    "CEy_yz = ao.array_3d_to_2d(CEy[i],'yz')\n",
    "CEz_xy = ao.array_3d_to_2d(CEz[i],'xy')\n",
    "CEz_xz = ao.array_3d_to_2d(CEz[i],'xz')\n",
    "CEz_yz = ao.array_3d_to_2d(CEz[i],'yz')\n",
    "\n",
    "vx_xy, vy_xy = mesh_3d_to_2d(vx,vy,vz,'xy')\n",
    "vx_xz, vz_xz = mesh_3d_to_2d(vx,vy,vz,'xz')\n",
    "vy_yz, vz_yz = mesh_3d_to_2d(vx,vy,vz,'yz')\n",
    "\n",
    "#plot\n",
    "# pltvv.plot_cor_and_dist_supergrid(vx, vy, vz, vmax,\n",
    "#                                 H_xy, H_xz, H_yz,\n",
    "#                                 CEx_xy,CEx_xz, CEx_yz,\n",
    "#                                 CEy_xy,CEy_xz, CEy_yz,\n",
    "#                                 CEz_xy,CEz_xz, CEz_yz,flnm=resultsdir+resultstag+'superplotendval.png')\n",
    "# pltvv.plot_cor_and_dist_supergrid(vx, vy, vz, vmax,\n",
    "#                                 H_xy, H_xz, H_yz,\n",
    "#                                 CEx_xy,CEx_xz, CEx_yz,\n",
    "#                                 CEy_xy,CEy_xz, CEy_yz,\n",
    "#                                 CEz_xy,CEz_xz, CEz_yz)"
   ]
  },
  {
   "cell_type": "code",
   "execution_count": null,
   "metadata": {},
   "outputs": [],
   "source": [
    "#plot\n",
    "make_C_pmesh(vx_xy,vy_vy,vmax,CEy_xy)"
   ]
  },
  {
   "cell_type": "code",
   "execution_count": null,
   "metadata": {},
   "outputs": [],
   "source": [
    "make_C_pmesh(vx_xz,vz_vz,vmax,CEy_xz)"
   ]
  },
  {
   "cell_type": "code",
   "execution_count": null,
   "metadata": {},
   "outputs": [],
   "source": [
    "make_H_pmesh(vx_xy,vy_vy,vmax,H_xy)"
   ]
  },
  {
   "cell_type": "code",
   "execution_count": null,
   "metadata": {},
   "outputs": [],
   "source": [
    "make_H_pmesh(vx_xz,vz_vz,vmax,H_xz)"
   ]
  }
 ],
 "metadata": {
  "kernelspec": {
   "display_name": "Python 3",
   "language": "python",
   "name": "python3"
  },
  "language_info": {
   "codemirror_mode": {
    "name": "ipython",
    "version": 3
   },
   "file_extension": ".py",
   "mimetype": "text/x-python",
   "name": "python",
   "nbconvert_exporter": "python",
   "pygments_lexer": "ipython3",
   "version": "3.7.3"
  }
 },
 "nbformat": 4,
 "nbformat_minor": 2
}
